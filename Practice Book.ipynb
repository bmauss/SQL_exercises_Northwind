{
 "cells": [
  {
   "cell_type": "markdown",
   "metadata": {},
   "source": [
    "# Importing Libraries"
   ]
  },
  {
   "cell_type": "code",
   "execution_count": 1,
   "metadata": {
    "ExecuteTime": {
     "end_time": "2020-11-20T16:01:42.951918Z",
     "start_time": "2020-11-20T16:01:34.992922Z"
    }
   },
   "outputs": [],
   "source": [
    "import sqlite3 \n",
    "import pandas as pd"
   ]
  },
  {
   "cell_type": "code",
   "execution_count": 2,
   "metadata": {
    "ExecuteTime": {
     "end_time": "2020-11-20T16:02:14.764949Z",
     "start_time": "2020-11-20T16:02:14.760966Z"
    }
   },
   "outputs": [],
   "source": [
    "# Connecting to database\n",
    "conn = sqlite3.Connection('Northwind.sqlite')\n",
    "# Initializing cursor\n",
    "c = conn.cursor()"
   ]
  },
  {
   "cell_type": "code",
   "execution_count": 13,
   "metadata": {
    "ExecuteTime": {
     "end_time": "2020-11-20T16:14:54.422734Z",
     "start_time": "2020-11-20T16:14:54.417728Z"
    }
   },
   "outputs": [
    {
     "data": {
      "text/plain": [
       "[('Employee',),\n",
       " ('Category',),\n",
       " ('Customer',),\n",
       " ('Shipper',),\n",
       " ('Supplier',),\n",
       " ('Order',),\n",
       " ('Product',),\n",
       " ('OrderDetail',),\n",
       " ('CustomerCustomerDemo',),\n",
       " ('CustomerDemographic',),\n",
       " ('Region',),\n",
       " ('Territory',),\n",
       " ('EmployeeTerritory',)]"
      ]
     },
     "execution_count": 13,
     "metadata": {},
     "output_type": "execute_result"
    }
   ],
   "source": [
    "# Viewing all tables\n",
    "c.execute(\"\"\"SELECT name \n",
    "             FROM sqlite_master\n",
    "             WHERE \n",
    "                 TYPE = 'table' AND name NOT LIKE 'sqlite_%';\"\"\").fetchall()"
   ]
  },
  {
   "cell_type": "code",
   "execution_count": 22,
   "metadata": {
    "ExecuteTime": {
     "end_time": "2020-11-20T16:29:44.050178Z",
     "start_time": "2020-11-20T16:29:44.044181Z"
    }
   },
   "outputs": [
    {
     "data": {
      "text/plain": [
       "[('table',\n",
       "  'Employee',\n",
       "  'Employee',\n",
       "  2,\n",
       "  'CREATE TABLE \"Employee\" \\n(\\n  \"Id\" INTEGER PRIMARY KEY, \\n  \"LastName\" VARCHAR(8000) NULL, \\n  \"FirstName\" VARCHAR(8000) NULL, \\n  \"Title\" VARCHAR(8000) NULL, \\n  \"TitleOfCourtesy\" VARCHAR(8000) NULL, \\n  \"BirthDate\" VARCHAR(8000) NULL, \\n  \"HireDate\" VARCHAR(8000) NULL, \\n  \"Address\" VARCHAR(8000) NULL, \\n  \"City\" VARCHAR(8000) NULL, \\n  \"Region\" VARCHAR(8000) NULL, \\n  \"PostalCode\" VARCHAR(8000) NULL, \\n  \"Country\" VARCHAR(8000) NULL, \\n  \"HomePhone\" VARCHAR(8000) NULL, \\n  \"Extension\" VARCHAR(8000) NULL, \\n  \"Photo\" BLOB NULL, \\n  \"Notes\" VARCHAR(8000) NULL, \\n  \"ReportsTo\" INTEGER NULL, \\n  \"PhotoPath\" VARCHAR(8000) NULL \\n)'),\n",
       " ('table',\n",
       "  'Category',\n",
       "  'Category',\n",
       "  3,\n",
       "  'CREATE TABLE \"Category\" \\n(\\n  \"Id\" INTEGER PRIMARY KEY, \\n  \"CategoryName\" VARCHAR(8000) NULL, \\n  \"Description\" VARCHAR(8000) NULL \\n)'),\n",
       " ('table',\n",
       "  'Customer',\n",
       "  'Customer',\n",
       "  4,\n",
       "  'CREATE TABLE \"Customer\" \\n(\\n  \"Id\" VARCHAR(8000) PRIMARY KEY, \\n  \"CompanyName\" VARCHAR(8000) NULL, \\n  \"ContactName\" VARCHAR(8000) NULL, \\n  \"ContactTitle\" VARCHAR(8000) NULL, \\n  \"Address\" VARCHAR(8000) NULL, \\n  \"City\" VARCHAR(8000) NULL, \\n  \"Region\" VARCHAR(8000) NULL, \\n  \"PostalCode\" VARCHAR(8000) NULL, \\n  \"Country\" VARCHAR(8000) NULL, \\n  \"Phone\" VARCHAR(8000) NULL, \\n  \"Fax\" VARCHAR(8000) NULL \\n)'),\n",
       " ('table',\n",
       "  'Shipper',\n",
       "  'Shipper',\n",
       "  8,\n",
       "  'CREATE TABLE \"Shipper\" \\n(\\n  \"Id\" INTEGER PRIMARY KEY, \\n  \"CompanyName\" VARCHAR(8000) NULL, \\n  \"Phone\" VARCHAR(8000) NULL \\n)'),\n",
       " ('table',\n",
       "  'Supplier',\n",
       "  'Supplier',\n",
       "  9,\n",
       "  'CREATE TABLE \"Supplier\" \\n(\\n  \"Id\" INTEGER PRIMARY KEY, \\n  \"CompanyName\" VARCHAR(8000) NULL, \\n  \"ContactName\" VARCHAR(8000) NULL, \\n  \"ContactTitle\" VARCHAR(8000) NULL, \\n  \"Address\" VARCHAR(8000) NULL, \\n  \"City\" VARCHAR(8000) NULL, \\n  \"Region\" VARCHAR(8000) NULL, \\n  \"PostalCode\" VARCHAR(8000) NULL, \\n  \"Country\" VARCHAR(8000) NULL, \\n  \"Phone\" VARCHAR(8000) NULL, \\n  \"Fax\" VARCHAR(8000) NULL, \\n  \"HomePage\" VARCHAR(8000) NULL \\n)'),\n",
       " ('table',\n",
       "  'Order',\n",
       "  'Order',\n",
       "  11,\n",
       "  'CREATE TABLE \"Order\" \\n(\\n  \"Id\" INTEGER PRIMARY KEY, \\n  \"CustomerId\" VARCHAR(8000) NULL, \\n  \"EmployeeId\" INTEGER NOT NULL, \\n  \"OrderDate\" VARCHAR(8000) NULL, \\n  \"RequiredDate\" VARCHAR(8000) NULL, \\n  \"ShippedDate\" VARCHAR(8000) NULL, \\n  \"ShipVia\" INTEGER NULL, \\n  \"Freight\" DECIMAL NOT NULL, \\n  \"ShipName\" VARCHAR(8000) NULL, \\n  \"ShipAddress\" VARCHAR(8000) NULL, \\n  \"ShipCity\" VARCHAR(8000) NULL, \\n  \"ShipRegion\" VARCHAR(8000) NULL, \\n  \"ShipPostalCode\" VARCHAR(8000) NULL, \\n  \"ShipCountry\" VARCHAR(8000) NULL \\n)'),\n",
       " ('table',\n",
       "  'Product',\n",
       "  'Product',\n",
       "  12,\n",
       "  'CREATE TABLE \"Product\" \\n(\\n  \"Id\" INTEGER PRIMARY KEY, \\n  \"ProductName\" VARCHAR(8000) NULL, \\n  \"SupplierId\" INTEGER NOT NULL, \\n  \"CategoryId\" INTEGER NOT NULL, \\n  \"QuantityPerUnit\" VARCHAR(8000) NULL, \\n  \"UnitPrice\" DECIMAL NOT NULL, \\n  \"UnitsInStock\" INTEGER NOT NULL, \\n  \"UnitsOnOrder\" INTEGER NOT NULL, \\n  \"ReorderLevel\" INTEGER NOT NULL, \\n  \"Discontinued\" INTEGER NOT NULL \\n)'),\n",
       " ('table',\n",
       "  'OrderDetail',\n",
       "  'OrderDetail',\n",
       "  14,\n",
       "  'CREATE TABLE \"OrderDetail\" \\n(\\n  \"Id\" VARCHAR(8000) PRIMARY KEY, \\n  \"OrderId\" INTEGER NOT NULL, \\n  \"ProductId\" INTEGER NOT NULL, \\n  \"UnitPrice\" DECIMAL NOT NULL, \\n  \"Quantity\" INTEGER NOT NULL, \\n  \"Discount\" DOUBLE NOT NULL \\n)'),\n",
       " ('table',\n",
       "  'CustomerCustomerDemo',\n",
       "  'CustomerCustomerDemo',\n",
       "  16,\n",
       "  'CREATE TABLE \"CustomerCustomerDemo\" \\n(\\n  \"Id\" VARCHAR(8000) PRIMARY KEY, \\n  \"CustomerTypeId\" VARCHAR(8000) NULL \\n)'),\n",
       " ('table',\n",
       "  'CustomerDemographic',\n",
       "  'CustomerDemographic',\n",
       "  18,\n",
       "  'CREATE TABLE \"CustomerDemographic\" \\n(\\n  \"Id\" VARCHAR(8000) PRIMARY KEY, \\n  \"CustomerDesc\" VARCHAR(8000) NULL \\n)'),\n",
       " ('table',\n",
       "  'Region',\n",
       "  'Region',\n",
       "  21,\n",
       "  'CREATE TABLE \"Region\" \\n(\\n  \"Id\" INTEGER PRIMARY KEY, \\n  \"RegionDescription\" VARCHAR(8000) NULL \\n)'),\n",
       " ('table',\n",
       "  'Territory',\n",
       "  'Territory',\n",
       "  22,\n",
       "  'CREATE TABLE \"Territory\" \\n(\\n  \"Id\" VARCHAR(8000) PRIMARY KEY, \\n  \"TerritoryDescription\" VARCHAR(8000) NULL, \\n  \"RegionId\" INTEGER NOT NULL \\n)'),\n",
       " ('table',\n",
       "  'EmployeeTerritory',\n",
       "  'EmployeeTerritory',\n",
       "  24,\n",
       "  'CREATE TABLE \"EmployeeTerritory\" \\n(\\n  \"Id\" VARCHAR(8000) PRIMARY KEY, \\n  \"EmployeeId\" INTEGER NOT NULL, \\n  \"TerritoryId\" VARCHAR(8000) NULL \\n)')]"
      ]
     },
     "execution_count": 22,
     "metadata": {},
     "output_type": "execute_result"
    }
   ],
   "source": [
    "# Selecting all from SQLite_Master\n",
    "c.execute(\"\"\"SELECT * \n",
    "             FROM sqlite_master\n",
    "             WHERE \n",
    "                 TYPE = 'table' AND name NOT LIKE 'sqlite_%';\"\"\").fetchall()"
   ]
  },
  {
   "cell_type": "markdown",
   "metadata": {},
   "source": [
    "From here I would make a table that contained information on the columns of all of the tables to create a **Table of Contents**, of sorts."
   ]
  },
  {
   "cell_type": "code",
   "execution_count": null,
   "metadata": {},
   "outputs": [],
   "source": [
    "# Selecting all phone numbers names and "
   ]
  }
 ],
 "metadata": {
  "kernelspec": {
   "display_name": "Python [conda env:learn-env] *",
   "language": "python",
   "name": "conda-env-learn-env-py"
  },
  "language_info": {
   "codemirror_mode": {
    "name": "ipython",
    "version": 3
   },
   "file_extension": ".py",
   "mimetype": "text/x-python",
   "name": "python",
   "nbconvert_exporter": "python",
   "pygments_lexer": "ipython3",
   "version": "3.6.12"
  },
  "toc": {
   "base_numbering": 1,
   "nav_menu": {},
   "number_sections": true,
   "sideBar": true,
   "skip_h1_title": false,
   "title_cell": "Table of Contents",
   "title_sidebar": "Contents",
   "toc_cell": false,
   "toc_position": {},
   "toc_section_display": true,
   "toc_window_display": false
  },
  "varInspector": {
   "cols": {
    "lenName": 16,
    "lenType": 16,
    "lenVar": 40
   },
   "kernels_config": {
    "python": {
     "delete_cmd_postfix": "",
     "delete_cmd_prefix": "del ",
     "library": "var_list.py",
     "varRefreshCmd": "print(var_dic_list())"
    },
    "r": {
     "delete_cmd_postfix": ") ",
     "delete_cmd_prefix": "rm(",
     "library": "var_list.r",
     "varRefreshCmd": "cat(var_dic_list()) "
    }
   },
   "types_to_exclude": [
    "module",
    "function",
    "builtin_function_or_method",
    "instance",
    "_Feature"
   ],
   "window_display": false
  }
 },
 "nbformat": 4,
 "nbformat_minor": 4
}
